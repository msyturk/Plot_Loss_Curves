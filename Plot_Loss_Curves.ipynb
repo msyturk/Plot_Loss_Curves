{
  "nbformat": 4,
  "nbformat_minor": 0,
  "metadata": {
    "colab": {
      "provenance": []
    },
    "kernelspec": {
      "name": "python3",
      "display_name": "Python 3"
    },
    "language_info": {
      "name": "python"
    }
  },
  "cells": [
    {
      "cell_type": "code",
      "execution_count": 2,
      "metadata": {
        "id": "nzZICnY74t95"
      },
      "outputs": [],
      "source": [
        "# Let's create a function to plot our loss curves...\n",
        "import matplotlib.pyplot as plt\n",
        "\n",
        "# Plot the validation and training curves\n",
        "def plot_loss_curves(history):\n",
        "  \"\"\"\n",
        "  Returns seperate loss curves for training and validation metrics.\n",
        "\n",
        "  Args:\n",
        "    history: TensorFlow History object.\n",
        "\n",
        "  Returns:\n",
        "    Plots of training/validation loss and accuracy metrics.\n",
        "  \"\"\"\n",
        "  loss = history.history[\"loss\"]\n",
        "  val_loss = history.history[\"val_loss\"]\n",
        "\n",
        "  accuracy = history.history[\"accuracy\"]\n",
        "  val_accuracy = history.history[\"val_accuracy\"]\n",
        "\n",
        "  epoch = range(len(history.history[\"loss\"]))\n",
        "\n",
        "  # Plot the curves\n",
        "  plt.figure(figsize=(6,4))\n",
        "  plt.plot(epoch, loss, label=\"training_loss\")\n",
        "  plt.plot(epoch, val_loss, label=\"val_loss\")\n",
        "  plt.title(\"Loss\")\n",
        "  plt.xlabel(\"Epochs\")\n",
        "  plt.legend()\n",
        "\n",
        "  plt.figure(figsize=(6,4))\n",
        "  plt.plot(epoch, accuracy, label=\"training_accuracy\")\n",
        "  plt.plot(epoch, val_accuracy, label=\"val_accuracy\")\n",
        "  plt.title(\"Accuracy\")\n",
        "  plt.xlabel(\"Epochs\")\n",
        "  plt.legend();"
      ]
    },
    {
      "cell_type": "code",
      "source": [],
      "metadata": {
        "id": "0jk6l48j44RW"
      },
      "execution_count": null,
      "outputs": []
    }
  ]
}